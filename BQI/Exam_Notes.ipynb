{
 "cells": [
  {
   "cell_type": "code",
   "execution_count": 9,
   "id": "c1b4d08f-74fd-4305-ac1a-ab785200f4e4",
   "metadata": {},
   "outputs": [
    {
     "data": {
      "text/latex": [
       "$$ |11\\rangle$$"
      ],
      "text/plain": [
       "<IPython.core.display.Latex object>"
      ]
     },
     "metadata": {},
     "output_type": "display_data"
    }
   ],
   "source": [
    "from qiskit.quantum_info import Statevector, Operator\n",
    "\n",
    "state = Statevector.from_label(\"10\")\n",
    "\n",
    "H = Operator.from_label(\"H\")\n",
    "Z = Operator.from_label(\"Z\")\n",
    "I = Operator.from_label(\"I\")\n",
    "CX = Operator(\n",
    "    [[1, 0, 0, 0],\n",
    "     [0, 0, 0, 1],\n",
    "     [0, 0, 1, 0],\n",
    "     [0, 1, 0, 0]])\n",
    "ICX = Operator(\n",
    "    [[1, 0, 0, 0],\n",
    "     [0, 1, 0, 0],\n",
    "     [0, 0, 0, 1],\n",
    "     [0, 0, 1, 0]])\n",
    "\n",
    "pi0 = I ^ H\n",
    "pi2 = Z ^ I\n",
    "pi4 = H ^ I\n",
    "\n",
    "result = pi4 @ ICX @ pi2 @ CX @ pi0\n",
    "display(state.evolve(result).draw(\"latex\"))"
   ]
  },
  {
   "cell_type": "code",
   "execution_count": 11,
   "id": "a5cbf92b-dcb9-4592-a84f-ed3977a9ef09",
   "metadata": {},
   "outputs": [
    {
     "data": {
      "text/latex": [
       "$$\n",
       "\n",
       "\\begin{bmatrix}\n",
       "\\frac{1}{2} & \\frac{1}{2} & \\frac{i}{2} & \\frac{i}{2}  \\\\\n",
       " - \\frac{1}{2} & \\frac{1}{2} & \\frac{i}{2} & - \\frac{i}{2}  \\\\\n",
       " \\frac{1}{2} & \\frac{1}{2} & - \\frac{i}{2} & - \\frac{i}{2}  \\\\\n",
       " - \\frac{1}{2} & \\frac{1}{2} & - \\frac{i}{2} & \\frac{i}{2}  \\\\\n",
       " \\end{bmatrix}\n",
       "$$"
      ],
      "text/plain": [
       "<IPython.core.display.Latex object>"
      ]
     },
     "metadata": {},
     "output_type": "display_data"
    }
   ],
   "source": [
    "X = Operator.from_label(\"X\")\n",
    "S = Operator.from_label(\"S\")\n",
    "\n",
    "pi0 = H ^ H\n",
    "pi2 = S ^ X\n",
    "\n",
    "display((pi0 @ ICX @ pi2).draw(\"latex\"))"
   ]
  },
  {
   "cell_type": "code",
   "execution_count": 31,
   "id": "3bed8ea6-d7d2-4d14-9a7b-b5b78ccfba4d",
   "metadata": {},
   "outputs": [
    {
     "data": {
      "text/latex": [
       "$$\n",
       "\n",
       "\\begin{bmatrix}\n",
       "\\frac{1}{3} & 0 & \\frac{\\sqrt{2}}{3} & 0  \\\\\n",
       " 0 & \\frac{1}{3} & 0 & \\frac{\\sqrt{2}}{3}  \\\\\n",
       " \\frac{\\sqrt{2}}{3} & 0 & \\frac{2}{3} & 0  \\\\\n",
       " 0 & \\frac{\\sqrt{2}}{3} & 0 & \\frac{2}{3}  \\\\\n",
       " \\end{bmatrix}\n",
       "$$"
      ],
      "text/plain": [
       "<IPython.core.display.Latex object>"
      ]
     },
     "metadata": {},
     "output_type": "display_data"
    }
   ],
   "source": [
    "from numpy import sqrt\n",
    "pi0 = Operator(\n",
    "    [[1/3, sqrt(2)/3],\n",
    "     [sqrt(2)/3, 2/3]])\n",
    "\n",
    "display((pi0 ^ I).draw(\"latex\"))"
   ]
  },
  {
   "cell_type": "code",
   "execution_count": null,
   "id": "0b4cca45-afd4-426d-96c1-3662bfde30a0",
   "metadata": {},
   "outputs": [],
   "source": []
  }
 ],
 "metadata": {
  "kernelspec": {
   "display_name": "Python 3 (ipykernel)",
   "language": "python",
   "name": "python3"
  },
  "language_info": {
   "codemirror_mode": {
    "name": "ipython",
    "version": 3
   },
   "file_extension": ".py",
   "mimetype": "text/x-python",
   "name": "python",
   "nbconvert_exporter": "python",
   "pygments_lexer": "ipython3",
   "version": "3.9.5"
  }
 },
 "nbformat": 4,
 "nbformat_minor": 5
}
