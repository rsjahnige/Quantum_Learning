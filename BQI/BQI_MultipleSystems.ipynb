{
 "cells": [
  {
   "cell_type": "markdown",
   "id": "a4d0509d-6e01-46c4-a2a8-40315a62c848",
   "metadata": {},
   "source": [
    "# Basics of Quantum Information - Multiple Systems"
   ]
  },
  {
   "cell_type": "code",
   "execution_count": 4,
   "id": "091c65fb-ebf2-4640-be83-d8653afe48a7",
   "metadata": {},
   "outputs": [
    {
     "name": "stdout",
     "output_type": "stream",
     "text": [
      "1.3.2\n"
     ]
    }
   ],
   "source": [
    "from qiskit import __version__\n",
    "print(__version__)"
   ]
  },
  {
   "cell_type": "code",
   "execution_count": 5,
   "id": "8bb4261f-ccf8-47fa-84f7-752e9b0cf45c",
   "metadata": {},
   "outputs": [],
   "source": [
    "from qiskit.quantum_info import Statevector, Operator\n",
    "from numpy import sqrt"
   ]
  },
  {
   "cell_type": "markdown",
   "id": "22f37f62-b112-477c-9fe8-79f7d157474b",
   "metadata": {},
   "source": [
    "## Tensor Products\n",
    "The `Statevector` class has a `tensor` method. The argumnet is interpreted as the tensor factor on the right."
   ]
  },
  {
   "cell_type": "code",
   "execution_count": 7,
   "id": "f29d3d4c-3962-4e07-a5b8-5a2a028dd1ea",
   "metadata": {},
   "outputs": [
    {
     "data": {
      "text/latex": [
       "$$ |01\\rangle$$"
      ],
      "text/plain": [
       "<IPython.core.display.Latex object>"
      ]
     },
     "metadata": {},
     "output_type": "display_data"
    }
   ],
   "source": [
    "zero = Statevector.from_label(\"0\")\n",
    "one = Statevector.from_label(\"1\")\n",
    "psi = zero.tensor(one)\n",
    "display(psi.draw(\"latex\"))"
   ]
  },
  {
   "cell_type": "markdown",
   "id": "4e4dbdaf-ff3d-4d77-a68b-803cb88ebf3c",
   "metadata": {},
   "source": [
    "The `from_label` method includes {\"0\", \"1\", \"+\", \"-\"} as well as {\"r\", \"l\"} for the states:\n",
    "$|+i\\rangle=\\frac{1}{\\sqrt{2}}|0\\rangle+\\frac{i}{\\sqrt{2}}|0\\rangle$ and $|-i\\rangle=\\frac{1}{\\sqrt{2}}|0\\rangle-\\frac{i}{\\sqrt{2}}|0\\rangle$. Recall that $|+\\rangle=\\frac{1}{\\sqrt{2}}|0\\rangle+\\frac{1}{\\sqrt{2}}|1\\rangle$ and $|-\\rangle=\\frac{1}{\\sqrt{2}}|0\\rangle-\\frac{1}{\\sqrt{2}}|1\\rangle$."
   ]
  },
  {
   "cell_type": "code",
   "execution_count": 8,
   "id": "dc7c7162-d315-4047-8aef-de3f5170fe78",
   "metadata": {},
   "outputs": [
    {
     "data": {
      "text/latex": [
       "$$\\frac{1}{2} |00\\rangle- \\frac{i}{2} |01\\rangle+\\frac{1}{2} |10\\rangle- \\frac{i}{2} |11\\rangle$$"
      ],
      "text/plain": [
       "<IPython.core.display.Latex object>"
      ]
     },
     "metadata": {},
     "output_type": "display_data"
    }
   ],
   "source": [
    "plus = Statevector.from_label(\"+\")\n",
    "minus_i = Statevector.from_label(\"l\")\n",
    "phi = plus.tensor(minus_i)\n",
    "display(phi.draw(\"latex\"))"
   ]
  },
  {
   "cell_type": "markdown",
   "id": "49773f50-11d1-411c-9c84-f0e82798d481",
   "metadata": {},
   "source": [
    "Alternatively we can use the `^` operation for tensor products, which naturally gives the same results."
   ]
  },
  {
   "cell_type": "code",
   "execution_count": 9,
   "id": "5079de2c-3743-4ba0-903f-a1cb4f3aae2e",
   "metadata": {},
   "outputs": [
    {
     "data": {
      "text/latex": [
       "$$\\frac{1}{2} |00\\rangle- \\frac{i}{2} |01\\rangle+\\frac{1}{2} |10\\rangle- \\frac{i}{2} |11\\rangle$$"
      ],
      "text/plain": [
       "<IPython.core.display.Latex object>"
      ]
     },
     "metadata": {},
     "output_type": "display_data"
    }
   ],
   "source": [
    "display((plus ^ minus_i).draw(\"latex\"))"
   ]
  },
  {
   "cell_type": "markdown",
   "id": "2d97e660-e212-4569-b0fe-9e9f0a614d5b",
   "metadata": {},
   "source": [
    "Similar to the `Statevector` class, the `Operator` class has `tensor` and `from_label` methods as well; and the `^` operator for tensor products."
   ]
  },
  {
   "cell_type": "code",
   "execution_count": 10,
   "id": "c8a3c903-9fa4-4b43-9c35-07aace1fca8c",
   "metadata": {},
   "outputs": [
    {
     "data": {
      "text/latex": [
       "$$\n",
       "\n",
       "\\begin{bmatrix}\n",
       "\\frac{\\sqrt{2}}{2} & 0 & \\frac{\\sqrt{2}}{2} & 0  \\\\\n",
       " 0 & \\frac{\\sqrt{2}}{2} & 0 & \\frac{\\sqrt{2}}{2}  \\\\\n",
       " \\frac{\\sqrt{2}}{2} & 0 & - \\frac{\\sqrt{2}}{2} & 0  \\\\\n",
       " 0 & \\frac{\\sqrt{2}}{2} & 0 & - \\frac{\\sqrt{2}}{2}  \\\\\n",
       " \\end{bmatrix}\n",
       "$$"
      ],
      "text/plain": [
       "<IPython.core.display.Latex object>"
      ]
     },
     "metadata": {},
     "output_type": "display_data"
    },
    {
     "data": {
      "text/latex": [
       "$$\n",
       "\n",
       "\\begin{bmatrix}\n",
       "0 & \\frac{\\sqrt{2}}{2} & 0 & 0 & 0 & \\frac{\\sqrt{2}}{2} & 0 & 0  \\\\\n",
       " \\frac{\\sqrt{2}}{2} & 0 & 0 & 0 & \\frac{\\sqrt{2}}{2} & 0 & 0 & 0  \\\\\n",
       " 0 & 0 & 0 & \\frac{\\sqrt{2}}{2} & 0 & 0 & 0 & \\frac{\\sqrt{2}}{2}  \\\\\n",
       " 0 & 0 & \\frac{\\sqrt{2}}{2} & 0 & 0 & 0 & \\frac{\\sqrt{2}}{2} & 0  \\\\\n",
       " 0 & \\frac{\\sqrt{2}}{2} & 0 & 0 & 0 & - \\frac{\\sqrt{2}}{2} & 0 & 0  \\\\\n",
       " \\frac{\\sqrt{2}}{2} & 0 & 0 & 0 & - \\frac{\\sqrt{2}}{2} & 0 & 0 & 0  \\\\\n",
       " 0 & 0 & 0 & \\frac{\\sqrt{2}}{2} & 0 & 0 & 0 & - \\frac{\\sqrt{2}}{2}  \\\\\n",
       " 0 & 0 & \\frac{\\sqrt{2}}{2} & 0 & 0 & 0 & - \\frac{\\sqrt{2}}{2} & 0  \\\\\n",
       " \\end{bmatrix}\n",
       "$$"
      ],
      "text/plain": [
       "<IPython.core.display.Latex object>"
      ]
     },
     "metadata": {},
     "output_type": "display_data"
    },
    {
     "data": {
      "text/latex": [
       "$$\n",
       "\n",
       "\\begin{bmatrix}\n",
       "0 & \\frac{\\sqrt{2}}{2} & 0 & 0 & 0 & \\frac{\\sqrt{2}}{2} & 0 & 0  \\\\\n",
       " \\frac{\\sqrt{2}}{2} & 0 & 0 & 0 & \\frac{\\sqrt{2}}{2} & 0 & 0 & 0  \\\\\n",
       " 0 & 0 & 0 & \\frac{\\sqrt{2}}{2} & 0 & 0 & 0 & \\frac{\\sqrt{2}}{2}  \\\\\n",
       " 0 & 0 & \\frac{\\sqrt{2}}{2} & 0 & 0 & 0 & \\frac{\\sqrt{2}}{2} & 0  \\\\\n",
       " 0 & \\frac{\\sqrt{2}}{2} & 0 & 0 & 0 & - \\frac{\\sqrt{2}}{2} & 0 & 0  \\\\\n",
       " \\frac{\\sqrt{2}}{2} & 0 & 0 & 0 & - \\frac{\\sqrt{2}}{2} & 0 & 0 & 0  \\\\\n",
       " 0 & 0 & 0 & \\frac{\\sqrt{2}}{2} & 0 & 0 & 0 & - \\frac{\\sqrt{2}}{2}  \\\\\n",
       " 0 & 0 & \\frac{\\sqrt{2}}{2} & 0 & 0 & 0 & - \\frac{\\sqrt{2}}{2} & 0  \\\\\n",
       " \\end{bmatrix}\n",
       "$$"
      ],
      "text/plain": [
       "<IPython.core.display.Latex object>"
      ]
     },
     "metadata": {},
     "output_type": "display_data"
    }
   ],
   "source": [
    "H = Operator.from_label(\"H\")\n",
    "I = Operator.from_label(\"I\")\n",
    "X = Operator.from_label(\"X\")\n",
    "\n",
    "display(H.tensor(I).draw(\"latex\"))\n",
    "display(H.tensor(I).tensor(X).draw(\"latex\"))\n",
    "display((H ^ I ^ X).draw(\"latex\"))"
   ]
  },
  {
   "cell_type": "markdown",
   "id": "6c2bec37-3732-4e95-85e8-5ea85052e505",
   "metadata": {},
   "source": [
    "Compound states can be evolved - simialr to single systems. For example, consider $(H \\otimes I)|\\phi\\rangle$ for $|\\phi\\rangle=|+\\rangle \\otimes |-i\\rangle$"
   ]
  },
  {
   "cell_type": "code",
   "execution_count": 11,
   "id": "174f4244-b5f1-4354-9daf-dc4f900b8750",
   "metadata": {},
   "outputs": [
    {
     "data": {
      "text/latex": [
       "$$\\frac{\\sqrt{2}}{2} |00\\rangle- \\frac{\\sqrt{2} i}{2} |01\\rangle$$"
      ],
      "text/plain": [
       "<IPython.core.display.Latex object>"
      ]
     },
     "metadata": {},
     "output_type": "display_data"
    }
   ],
   "source": [
    "display(phi.evolve(H ^ I).draw(\"latex\"))"
   ]
  },
  {
   "cell_type": "markdown",
   "id": "8dd43ea1-391e-4fda-818c-469bb9afc0bf",
   "metadata": {},
   "source": [
    "Consider $|\\psi\\rangle=|+\\rangle \\otimes |0\\rangle$. We will then perform a CX operation on $\\psi$ where the left-hand qubit is the control and the right-hand qubit is the target. The result is the Bell state $|\\phi^+\\rangle$"
   ]
  },
  {
   "cell_type": "code",
   "execution_count": 12,
   "id": "7c6cf580-482c-4e5a-9556-5550805acf4a",
   "metadata": {},
   "outputs": [
    {
     "data": {
      "text/latex": [
       "$$\\frac{\\sqrt{2}}{2} |00\\rangle+\\frac{\\sqrt{2}}{2} |11\\rangle$$"
      ],
      "text/plain": [
       "<IPython.core.display.Latex object>"
      ]
     },
     "metadata": {},
     "output_type": "display_data"
    }
   ],
   "source": [
    "CX = Operator(\n",
    "    [[1, 0, 0, 0],\n",
    "     [0, 1, 0, 0],\n",
    "     [0, 0, 0, 1],\n",
    "     [0, 0, 1, 0]])\n",
    "psi = plus.tensor(zero)\n",
    "display(psi.evolve(CX).draw(\"latex\"))"
   ]
  },
  {
   "cell_type": "markdown",
   "id": "8baf9b46-c93e-40b6-9c79-224ee15ae2cb",
   "metadata": {},
   "source": [
    "## Partial measurements\n",
    "By default the `measure` method measures all qubits in the state vector; however, we can alternatively provide a list of integers as an argument, which causes only those qubit indices to be measured. Consider the state $|w\\rangle=\\frac{|001\\rangle+|010\\rangle+|100\\rangle}{\\sqrt{3}}$"
   ]
  },
  {
   "cell_type": "code",
   "execution_count": 17,
   "id": "7b2a02ed-e2d6-4afb-a458-9cb7ded56c51",
   "metadata": {},
   "outputs": [
    {
     "data": {
      "text/latex": [
       "$$\\frac{\\sqrt{3}}{3} |001\\rangle+\\frac{\\sqrt{3}}{3} |010\\rangle+\\frac{\\sqrt{3}}{3} |100\\rangle$$"
      ],
      "text/plain": [
       "<IPython.core.display.Latex object>"
      ]
     },
     "metadata": {},
     "output_type": "display_data"
    },
    {
     "name": "stdout",
     "output_type": "stream",
     "text": [
      "Measured: 0\n",
      "State after measurement:\n"
     ]
    },
    {
     "data": {
      "text/latex": [
       "$$\\frac{\\sqrt{2}}{2} |010\\rangle+\\frac{\\sqrt{2}}{2} |100\\rangle$$"
      ],
      "text/plain": [
       "<IPython.core.display.Latex object>"
      ]
     },
     "metadata": {},
     "output_type": "display_data"
    },
    {
     "name": "stdout",
     "output_type": "stream",
     "text": [
      "Measured: 01\n",
      "State after measurement:\n"
     ]
    },
    {
     "data": {
      "text/latex": [
       "$$ |001\\rangle$$"
      ],
      "text/plain": [
       "<IPython.core.display.Latex object>"
      ]
     },
     "metadata": {},
     "output_type": "display_data"
    }
   ],
   "source": [
    "w = Statevector([0, 1, 1, 0, 1, 0, 0, 0] / sqrt(3))\n",
    "display(w.draw(\"latex\"))\n",
    "\n",
    "result, state = w.measure([0])\n",
    "print(f\"Measured: {result}\\nState after measurement:\")\n",
    "display(state.draw(\"latex\"))\n",
    "\n",
    "result, state = w.measure([0, 1])\n",
    "print(f\"Measured: {result}\\nState after measurement:\")\n",
    "display(state.draw(\"latex\"))"
   ]
  },
  {
   "cell_type": "code",
   "execution_count": null,
   "id": "434d2f76-75f4-4fae-8c5d-c0988d23f84d",
   "metadata": {},
   "outputs": [],
   "source": []
  }
 ],
 "metadata": {
  "kernelspec": {
   "display_name": "Python 3 (ipykernel)",
   "language": "python",
   "name": "python3"
  },
  "language_info": {
   "codemirror_mode": {
    "name": "ipython",
    "version": 3
   },
   "file_extension": ".py",
   "mimetype": "text/x-python",
   "name": "python",
   "nbconvert_exporter": "python",
   "pygments_lexer": "ipython3",
   "version": "3.9.5"
  }
 },
 "nbformat": 4,
 "nbformat_minor": 5
}
