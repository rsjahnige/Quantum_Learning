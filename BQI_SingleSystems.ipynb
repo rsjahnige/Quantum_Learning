{
 "cells": [
  {
   "cell_type": "markdown",
   "id": "c4b3ea74-bb42-4f2e-9828-53fbf8e43ff6",
   "metadata": {},
   "source": [
    "# Qiskit Implementations: IBM Quantum Learning - Basics of Quantum Information"
   ]
  },
  {
   "cell_type": "code",
   "execution_count": 1,
   "id": "362c7c6d",
   "metadata": {},
   "outputs": [
    {
     "name": "stdout",
     "output_type": "stream",
     "text": [
      "1.2.4\n"
     ]
    }
   ],
   "source": [
    "from qiskit import __version__\n",
    "print(__version__)"
   ]
  },
  {
   "cell_type": "code",
   "execution_count": 4,
   "id": "21ea8caa-671e-46b0-bfd8-983a8e528bda",
   "metadata": {},
   "outputs": [
    {
     "name": "stdout",
     "output_type": "stream",
     "text": [
      "[[0.5]\n",
      " [0.5]]\n"
     ]
    }
   ],
   "source": [
    "import numpy as np\n",
    "\n",
    "ket0 = np.array([[1],[0]])\n",
    "ket1 = np.array([[0],[1]])\n",
    "\n",
    "print(ket0 / 2 + ket1 / 2)"
   ]
  },
  {
   "cell_type": "code",
   "execution_count": 5,
   "id": "2afcd3ae-6d1d-4bd8-bff5-302defab73d1",
   "metadata": {},
   "outputs": [
    {
     "name": "stdout",
     "output_type": "stream",
     "text": [
      "[[1 1]\n",
      " [0 0]]\n",
      "[[1 0]\n",
      " [0 1]]\n"
     ]
    }
   ],
   "source": [
    "M1 = np.array([[1,1], [0,0]])\n",
    "M2 = np.array([[1,0], [0,1]])\n",
    "\n",
    "print(M1) \n",
    "print(M2)"
   ]
  },
  {
   "cell_type": "code",
   "execution_count": 6,
   "id": "108a48d5-2c98-41eb-a8ae-c36f35f2ab35",
   "metadata": {},
   "outputs": [
    {
     "name": "stdout",
     "output_type": "stream",
     "text": [
      "[[1.  0.5]\n",
      " [0.  0.5]]\n"
     ]
    }
   ],
   "source": [
    "M = M1/2 + M2/2\n",
    "print(M)"
   ]
  },
  {
   "cell_type": "code",
   "execution_count": 7,
   "id": "ddea56b0-4f52-4638-b816-aa381fe6aad0",
   "metadata": {},
   "outputs": [
    {
     "name": "stdout",
     "output_type": "stream",
     "text": [
      "[[1]\n",
      " [0]]\n",
      "[[1 1]\n",
      " [0 0]]\n",
      "[[1.   0.75]\n",
      " [0.   0.25]]\n"
     ]
    }
   ],
   "source": [
    "print(np.matmul(M1, ket1))\n",
    "print(np.matmul(M1, M2))\n",
    "print(np.matmul(M, M))"
   ]
  },
  {
   "cell_type": "code",
   "execution_count": 8,
   "id": "be04ed8d-8a4f-40c4-be03-a10c2ccecb9c",
   "metadata": {},
   "outputs": [
    {
     "data": {
      "text/latex": [
       "$$\n",
       "\n",
       "\\begin{bmatrix}\n",
       "1  \\\\\n",
       " 0  \\\\\n",
       " \\end{bmatrix}\n",
       "$$"
      ],
      "text/plain": [
       "<IPython.core.display.Latex object>"
      ]
     },
     "metadata": {},
     "output_type": "display_data"
    },
    {
     "data": {
      "text/latex": [
       "$$\n",
       "\n",
       "\\begin{bmatrix}\n",
       "1 & 1  \\\\\n",
       " 0 & 0  \\\\\n",
       " \\end{bmatrix}\n",
       "$$"
      ],
      "text/plain": [
       "<IPython.core.display.Latex object>"
      ]
     },
     "metadata": {},
     "output_type": "display_data"
    },
    {
     "data": {
      "text/latex": [
       "$$\n",
       "\n",
       "\\begin{bmatrix}\n",
       "1 & \\frac{3}{4}  \\\\\n",
       " 0 & \\frac{1}{4}  \\\\\n",
       " \\end{bmatrix}\n",
       "$$"
      ],
      "text/plain": [
       "<IPython.core.display.Latex object>"
      ]
     },
     "metadata": {},
     "output_type": "display_data"
    }
   ],
   "source": [
    "from qiskit.visualization import array_to_latex\n",
    "\n",
    "display(array_to_latex(np.matmul(M1, ket1)))\n",
    "display(array_to_latex(np.matmul(M1, M2)))\n",
    "display(array_to_latex(np.matmul(M, M)))"
   ]
  },
  {
   "cell_type": "markdown",
   "id": "72067da9-bd74-4c17-a6a6-092ad385ac4a",
   "metadata": {},
   "source": [
    "### Defining and displaying state vectors\n",
    "Qiskit's `Statevector` class providess this functionality and includes a `draw` method for displaying state vectors in a variety of ways. Note that `j` is used to represent imaginary numbers."
   ]
  },
  {
   "cell_type": "code",
   "execution_count": 10,
   "id": "b9db922b-7dc3-4fe8-9a23-d0adc459b1a8",
   "metadata": {},
   "outputs": [
    {
     "data": {
      "text/plain": [
       "[0.70710678+0.j,0.70710678+0.j]"
      ]
     },
     "metadata": {},
     "output_type": "display_data"
    },
    {
     "data": {
      "text/latex": [
       "$$\\frac{\\sqrt{2}}{2} |0\\rangle+\\frac{\\sqrt{2}}{2} |1\\rangle$$"
      ],
      "text/plain": [
       "<IPython.core.display.Latex object>"
      ]
     },
     "metadata": {},
     "output_type": "display_data"
    },
    {
     "name": "stdout",
     "output_type": "stream",
     "text": [
      "\\frac{\\sqrt{2}}{2} |0\\rangle+\\frac{\\sqrt{2}}{2} |1\\rangle\n"
     ]
    },
    {
     "data": {
      "text/latex": [
       "$$(\\frac{1}{3} + \\frac{2 i}{3}) |0\\rangle- \\frac{2}{3} |1\\rangle$$"
      ],
      "text/plain": [
       "<IPython.core.display.Latex object>"
      ]
     },
     "metadata": {},
     "output_type": "display_data"
    },
    {
     "data": {
      "text/latex": [
       "$$\\frac{1}{3} |0\\rangle+\\frac{2}{3} |1\\rangle$$"
      ],
      "text/plain": [
       "<IPython.core.display.Latex object>"
      ]
     },
     "metadata": {},
     "output_type": "display_data"
    }
   ],
   "source": [
    "from qiskit.quantum_info import Statevector\n",
    "from numpy import sqrt\n",
    "\n",
    "u = Statevector([1 / sqrt(2), 1 / sqrt(2)])\n",
    "v = Statevector([(1 + 2.0j) / 3, -2 / 3])\n",
    "w = Statevector([1 / 3, 2 / 3])\n",
    "\n",
    "display(u.draw(\"text\"))\n",
    "display(u.draw(\"latex\"))\n",
    "print(u.draw(\"latex_source\"))\n",
    "\n",
    "display(v.draw(\"latex\"))\n",
    "display(w.draw(\"latex\"))"
   ]
  },
  {
   "cell_type": "markdown",
   "id": "8ae0ebeb-18c7-413c-93c0-937f54d5822a",
   "metadata": {},
   "source": [
    "The `Statevector` class also includes the `is_valid` method, which checks to see if a given vector is a valid quantum state vector (i.e., Euclidean norm qual to 1)."
   ]
  },
  {
   "cell_type": "code",
   "execution_count": 11,
   "id": "6e68da98-398c-42e8-a1e7-a16f79b264f8",
   "metadata": {},
   "outputs": [
    {
     "data": {
      "text/plain": [
       "True"
      ]
     },
     "metadata": {},
     "output_type": "display_data"
    },
    {
     "data": {
      "text/plain": [
       "True"
      ]
     },
     "metadata": {},
     "output_type": "display_data"
    },
    {
     "data": {
      "text/plain": [
       "False"
      ]
     },
     "metadata": {},
     "output_type": "display_data"
    }
   ],
   "source": [
    "display(u.is_valid())\n",
    "display(v.is_valid())\n",
    "display(w.is_valid())"
   ]
  },
  {
   "cell_type": "markdown",
   "id": "29f6afa8-3584-4974-9b27-6f3338482228",
   "metadata": {},
   "source": [
    "Note that $||w||=|\\frac{1}{3}|^2+|\\frac{2}{3}|^2=\\frac{1}{9}+\\frac{4}{9}=\\frac{5}{9}\\neq1$"
   ]
  },
  {
   "cell_type": "markdown",
   "id": "87ef928a-9859-43bb-a72f-e34dadddcc02",
   "metadata": {},
   "source": [
    "### Simulating measurments using `Statevector`\n",
    "Running the measure method simulates a standard basis measurement. It returns the outcome of that measurement, plus the new quantum state vector of the system after the measurement."
   ]
  },
  {
   "cell_type": "code",
   "execution_count": 15,
   "id": "289d9885-0b3f-40dc-845a-695d97e69ef1",
   "metadata": {},
   "outputs": [
    {
     "data": {
      "text/latex": [
       "$$(\\frac{1}{3} + \\frac{2 i}{3}) |0\\rangle- \\frac{2}{3} |1\\rangle$$"
      ],
      "text/plain": [
       "<IPython.core.display.Latex object>"
      ]
     },
     "metadata": {},
     "output_type": "display_data"
    },
    {
     "name": "stdout",
     "output_type": "stream",
     "text": [
      "Measured: 0\n",
      "Post-measurement state:\n"
     ]
    },
    {
     "data": {
      "text/latex": [
       "$$(\\frac{\\sqrt{5}}{5} + \\frac{2 \\sqrt{5} i}{5}) |0\\rangle$$"
      ],
      "text/plain": [
       "<IPython.core.display.Latex object>"
      ]
     },
     "metadata": {},
     "output_type": "display_data"
    }
   ],
   "source": [
    "display(v.draw(\"latex\"))\n",
    "\n",
    "outcome, state = v.measure()\n",
    "print(f\"Measured: {outcome}\\nPost-measurement state:\")\n",
    "display(state.draw(\"latex\"))"
   ]
  },
  {
   "cell_type": "markdown",
   "id": "49d2c185-6b23-415d-b9e3-ae49ce7d058f",
   "metadata": {},
   "source": [
    "Measurement outcomes are probabilistic, so this method can return different results when run multiple times. Outcomes could be either: $(\\frac{1+2i}{\\sqrt{5}})|0\\rangle$ or $-|1\\rangle$\n"
   ]
  },
  {
   "cell_type": "markdown",
   "id": "7257d81c-d4ff-44dc-88d0-bc836d280e44",
   "metadata": {},
   "source": [
    "`Statevector` will throw an error if the `measure` method is applied to an invalid quantum state vector. `Statevector` also comes with a `sample_counts` method that allows for the simulation of any number of measurements on the system, each time starting with a freash copy of the state."
   ]
  },
  {
   "cell_type": "code",
   "execution_count": 16,
   "id": "b2a43fc8-db1b-4371-a823-cad199fa3061",
   "metadata": {},
   "outputs": [
    {
     "data": {
      "image/png": "[encoded data removed]",
      "text/plain": [
       "<Figure size 640x480 with 1 Axes>"
      ]
     },
     "execution_count": 16,
     "metadata": {},
     "output_type": "execute_result"
    }
   ],
   "source": [
    "from qiskit.visualization import plot_histogram\n",
    "\n",
    "statistics = v.sample_counts(1000)\n",
    "plot_histogram(statistics)"
   ]
  },
  {
   "cell_type": "markdown",
   "id": "62ffbc65-4eeb-43ac-b00b-f8317c6f5cfa",
   "metadata": {},
   "source": [
    "The larger the sample size, the more likely you are to get closer to the corresponding probability (i.e, *law of large numbers* in probability theory)."
   ]
  },
  {
   "cell_type": "markdown",
   "id": "ce07dcf2-e4c9-4f62-a9af-f527c2e6b929",
   "metadata": {},
   "source": [
    "### Performing operations with `Operator` and `Statevector`\n",
    "Unitary operations can be defined using the `Operator` class and applying the `evolve` method. Recall that applying a unitary matrix to a quantum state vector results in another quantum state vector."
   ]
  },
  {
   "cell_type": "code",
   "execution_count": 19,
   "id": "8e37f0b7-4021-4bc9-b5a9-f79033f27146",
   "metadata": {},
   "outputs": [
    {
     "data": {
      "text/latex": [
       "$$\n",
       "\n",
       "\\begin{bmatrix}\n",
       "1 & 0  \\\\\n",
       " 0 & \\frac{\\sqrt{2}}{2} + \\frac{\\sqrt{2} i}{2}  \\\\\n",
       " \\end{bmatrix}\n",
       "$$"
      ],
      "text/plain": [
       "<IPython.core.display.Latex object>"
      ]
     },
     "metadata": {},
     "output_type": "display_data"
    },
    {
     "data": {
      "text/latex": [
       "$$\\frac{\\sqrt{2}}{2} |0\\rangle- \\frac{\\sqrt{2}}{2} |1\\rangle$$"
      ],
      "text/plain": [
       "<IPython.core.display.Latex object>"
      ]
     },
     "metadata": {},
     "output_type": "display_data"
    }
   ],
   "source": [
    "from qiskit.quantum_info import Operator\n",
    "\n",
    "Y = Operator([[0, -1.0j], [1.0j, 0]])\n",
    "H = Operator([[1 / sqrt(2), 1 / sqrt(2)], [1 / sqrt(2), -1 / sqrt(2)]])\n",
    "S = Operator([[1, 0], [0, 1.0j]])\n",
    "T = Operator([[1, 0], [0, (1 + 1.0j) / sqrt(2)]])\n",
    "\n",
    "display(T.draw(\"latex\")) \n",
    "\n",
    "v = Statevector([0, 1])\n",
    "\n",
    "v = v.evolve(H)\n",
    "display(v.draw(\"latex\"))"
   ]
  },
  {
   "cell_type": "markdown",
   "id": "93da28f4-55b6-46fc-8b72-1d7f653391f1",
   "metadata": {},
   "source": [
    "### Looking ahead toward quantum circuits\n",
    "We can compose qubit unitary operations using Qiskit's `QuantumCircuit` class."
   ]
  },
  {
   "cell_type": "code",
   "execution_count": 21,
   "id": "fd756c0e-bd88-486b-b414-9f391f8c6a68",
   "metadata": {},
   "outputs": [
    {
     "data": {
      "image/png": "[encoded data removed]",
      "text/plain": [
       "<Figure size 185.453x117.056 with 1 Axes>"
      ]
     },
     "metadata": {},
     "output_type": "display_data"
    }
   ],
   "source": [
    "from qiskit import QuantumCircuit\n",
    "\n",
    "circuit = QuantumCircuit(1)\n",
    "\n",
    "circuit.h(0)\n",
    "\n",
    "display(circuit.draw(output=\"mpl\"))"
   ]
  },
  {
   "cell_type": "markdown",
   "id": "50397630-721b-4b36-88cb-f1488f138039",
   "metadata": {},
   "source": [
    "Note that `mpl` is short for `Matplotlib`, a python visualization library. There are other options, including a text-based and LaTeX-based renderer.\n",
    "\n",
    "To obtain the unitary matrix corresponding to this circuit we can use the `from_circuit` method from the `Operator` class."
   ]
  },
  {
   "cell_type": "code",
   "execution_count": 22,
   "id": "940c2948-afdc-4b9b-ac1f-d335fb599b99",
   "metadata": {},
   "outputs": [
    {
     "data": {
      "text/latex": [
       "$$\n",
       "\n",
       "\\begin{bmatrix}\n",
       "\\frac{\\sqrt{2}}{2} & \\frac{\\sqrt{2}}{2}  \\\\\n",
       " \\frac{\\sqrt{2}}{2} & - \\frac{\\sqrt{2}}{2}  \\\\\n",
       " \\end{bmatrix}\n",
       "$$"
      ],
      "text/plain": [
       "<IPython.core.display.Latex object>"
      ]
     },
     "metadata": {},
     "output_type": "display_data"
    }
   ],
   "source": [
    "display(Operator.from_circuit(circuit).draw(\"latex\"))"
   ]
  },
  {
   "cell_type": "markdown",
   "id": "e6b6fd3f-c351-4378-b012-a080dc3787a5",
   "metadata": {},
   "source": [
    "We can also initialize a starting quantum state vector and then evolve that state according to the sequence of operations described by the circuit (i.e., the `evolve` method can take either a unitary matrix defined by the `Operator` class or a circuit defined by the `QuantumCircuit` class)"
   ]
  },
  {
   "cell_type": "code",
   "execution_count": 23,
   "id": "5b37a5a6-d6de-4b5a-acf3-420040910611",
   "metadata": {},
   "outputs": [
    {
     "data": {
      "text/latex": [
       "$$\\frac{\\sqrt{2}}{2} |0\\rangle+\\frac{\\sqrt{2}}{2} |1\\rangle$$"
      ],
      "text/plain": [
       "<IPython.core.display.Latex object>"
      ]
     },
     "metadata": {},
     "output_type": "display_data"
    }
   ],
   "source": [
    "ket0 = Statevector([1, 0])\n",
    "v = ket0.evolve(circuit)\n",
    "display(v.draw(\"latex\"))"
   ]
  },
  {
   "cell_type": "code",
   "execution_count": null,
   "id": "43d9d704-a6e0-490f-9993-059be49966b0",
   "metadata": {},
   "outputs": [],
   "source": [
    "statistics = v.sample_counts"
   ]
  }
 ],
 "metadata": {
  "kernelspec": {
   "display_name": "Python 3 (ipykernel)",
   "language": "python",
   "name": "python3"
  },
  "language_info": {
   "codemirror_mode": {
    "name": "ipython",
    "version": 3
   },
   "file_extension": ".py",
   "mimetype": "text/x-python",
   "name": "python",
   "nbconvert_exporter": "python",
   "pygments_lexer": "ipython3",
   "version": "3.8.10"
  }
 },
 "nbformat": 4,
 "nbformat_minor": 5
}
